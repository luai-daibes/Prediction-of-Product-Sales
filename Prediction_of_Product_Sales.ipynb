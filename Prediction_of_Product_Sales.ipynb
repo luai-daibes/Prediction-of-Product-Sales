{
  "nbformat": 4,
  "nbformat_minor": 0,
  "metadata": {
    "colab": {
      "provenance": [],
      "authorship_tag": "ABX9TyNGZD2Er9Z1Z9w8y7f7jDDg",
      "include_colab_link": true
    },
    "kernelspec": {
      "name": "python3",
      "display_name": "Python 3"
    },
    "language_info": {
      "name": "python"
    }
  },
  "cells": [
    {
      "cell_type": "markdown",
      "metadata": {
        "id": "view-in-github",
        "colab_type": "text"
      },
      "source": [
        "<a href=\"https://colab.research.google.com/github/luai-daibes/Prediction-of-Product-Sales/blob/main/Prediction_of_Product_Sales.ipynb\" target=\"_parent\"><img src=\"https://colab.research.google.com/assets/colab-badge.svg\" alt=\"Open In Colab\"/></a>"
      ]
    },
    {
      "cell_type": "markdown",
      "source": [
        "# Project Title: (Prediction of Product Sales)\n",
        "Luai Daibes\n",
        "## Project overview\n",
        "\n",
        "\n",
        "\n",
        "\n",
        "\n",
        "\n",
        "\n"
      ],
      "metadata": {
        "id": "7PFE6uIL9sVn"
      }
    },
    {
      "cell_type": "markdown",
      "source": [
        "## Load and inspect data ##"
      ],
      "metadata": {
        "id": "aKsE-I_SwS_s"
      }
    },
    {
      "cell_type": "code",
      "source": [],
      "metadata": {
        "id": "vwcyiHs9v71P"
      },
      "execution_count": null,
      "outputs": []
    },
    {
      "cell_type": "markdown",
      "source": [],
      "metadata": {
        "id": "exeW5wv69qha"
      }
    },
    {
      "cell_type": "markdown",
      "source": [
        "## Clean Data ##\n"
      ],
      "metadata": {
        "id": "rhg6dsWCwseM"
      }
    },
    {
      "cell_type": "markdown",
      "source": [
        "## Exploratory Data Analysis"
      ],
      "metadata": {
        "id": "146X2Jikw1wG"
      }
    },
    {
      "cell_type": "markdown",
      "source": [
        "## Feature inspection ##"
      ],
      "metadata": {
        "id": "STOrHFGGw-os"
      }
    }
  ]
}